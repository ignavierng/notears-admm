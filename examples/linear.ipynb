{
 "cells": [
  {
   "cell_type": "markdown",
   "id": "1274b3b3-b936-4d8d-86e4-a4351fe7abf5",
   "metadata": {},
   "source": [
    "# Example of NOTEARS-ADMM"
   ]
  },
  {
   "cell_type": "code",
   "execution_count": 1,
   "id": "f075363f-1b45-49eb-877e-2e99dc33d7cf",
   "metadata": {},
   "outputs": [],
   "source": [
    "import sys\n",
    "sys.path.append('..')    # To import notears_admm from parent directory\n",
    "\n",
    "import torch\n",
    "\n",
    "from notears_admm import utils\n",
    "from notears_admm.linear_admm import notears_linear_admm\n",
    "from notears_admm.postprocess import postprocess\n",
    "\n",
    "# Configuration of torch\n",
    "torch.set_default_dtype(torch.double)"
   ]
  },
  {
   "cell_type": "markdown",
   "id": "e18365a2-2425-43b0-b6c9-210d9e733b65",
   "metadata": {},
   "source": [
    "## Generate data"
   ]
  },
  {
   "cell_type": "code",
   "execution_count": 2,
   "id": "212ac502-ea56-491b-a812-6555d8ae3d53",
   "metadata": {},
   "outputs": [],
   "source": [
    "utils.set_random_seed(1)\n",
    "K = 8\n",
    "n, d, s0, graph_type, sem_type = 32, 20, 20, 'ER', 'gauss'\n",
    "B_bin_true = utils.simulate_dag(d, s0, graph_type)\n",
    "B_true = utils.simulate_parameter(B_bin_true)\n",
    "X = utils.simulate_linear_sem(B_true, K * n, sem_type)\n",
    "Xs = X.reshape(K, n, d)"
   ]
  },
  {
   "cell_type": "markdown",
   "id": "932c2921-5b23-4d57-ab47-5492d6808cde",
   "metadata": {},
   "source": [
    "## Run NOTEARS-ADMM"
   ]
  },
  {
   "cell_type": "code",
   "execution_count": 3,
   "id": "542950af-4e09-48db-969a-7178b3ae5310",
   "metadata": {
    "scrolled": true,
    "tags": []
   },
   "outputs": [
    {
     "name": "stdout",
     "output_type": "stream",
     "text": [
      "CPU times: user 2min 16s, sys: 2min 8s, total: 4min 25s\n",
      "Wall time: 1min 7s\n"
     ]
    }
   ],
   "source": [
    "%%time\n",
    "utils.set_random_seed(1)\n",
    "B_est = notears_linear_admm(Xs, lambda1=0.01, verbose=False)"
   ]
  },
  {
   "cell_type": "code",
   "execution_count": 4,
   "id": "5cefd169-e186-476b-a3bf-03be345bcfcc",
   "metadata": {},
   "outputs": [
    {
     "name": "stdout",
     "output_type": "stream",
     "text": [
      "{'fdr': 0.0, 'tpr': 1.0, 'fpr': 0.0, 'shd': 0, 'nnz': 20}\n"
     ]
    }
   ],
   "source": [
    "B_processed = postprocess(B_est, threshold=0.3)\n",
    "acc = utils.count_accuracy(B_processed, B_bin_true)\n",
    "print(acc)"
   ]
  }
 ],
 "metadata": {
  "kernelspec": {
   "display_name": "py37:Python",
   "language": "python",
   "name": "conda-env-py37-py"
  },
  "language_info": {
   "codemirror_mode": {
    "name": "ipython",
    "version": 3
   },
   "file_extension": ".py",
   "mimetype": "text/x-python",
   "name": "python",
   "nbconvert_exporter": "python",
   "pygments_lexer": "ipython3",
   "version": "3.7.12"
  }
 },
 "nbformat": 4,
 "nbformat_minor": 5
}
